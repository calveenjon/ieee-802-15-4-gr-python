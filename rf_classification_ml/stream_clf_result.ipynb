{
 "cells": [
  {
   "cell_type": "code",
   "execution_count": 21,
   "metadata": {},
   "outputs": [],
   "source": [
    "import numpy as np\n",
    "import pandas as pd\n",
    "import os"
   ]
  },
  {
   "cell_type": "code",
   "execution_count": 22,
   "metadata": {},
   "outputs": [],
   "source": [
    "def stream_clf_acc(file_path: str, label: str) -> float:\n",
    "    text_data = None\n",
    "    with open(file_path, 'r') as f:\n",
    "        text_data = f.read()\n",
    "        f.close()\n",
    "\n",
    "    text_data = text_data.replace(' \\n', '')\n",
    "    text_data = text_data.split('\\n')\n",
    "    text_data.pop()\n",
    "    a = text_data.count(label)\n",
    "    \n",
    "    return float(a) / float(len(text_data))"
   ]
  },
  {
   "cell_type": "code",
   "execution_count": 23,
   "metadata": {},
   "outputs": [],
   "source": [
    "def iter_file_result(head:str, label:str, method:str) -> list:\n",
    "    window_size = [16, 32, 64, 128, 256, 512, 1024, 2048, 4096]\n",
    "    result = []\n",
    "    \n",
    "    for w in window_size:\n",
    "        result.append(stream_clf_acc(os.path.join(method, 'spectrum_energy_dataset_100k_samples', 'report', 'stream_clf_result_{}_{}.txt'.format(head, w)), label))\n",
    "    \n",
    "    return result"
   ]
  },
  {
   "cell_type": "code",
   "execution_count": 34,
   "metadata": {},
   "outputs": [],
   "source": [
    "prev_ble_beacon = iter_file_result('ble_beacon', 'BL_Beacon', 'previous_method')\n",
    "prev_ble_stream = iter_file_result('ble_stream', 'BL_Stream', 'previous_method')\n",
    "prev_microwave_oven = iter_file_result('microwave_oven', 'Microwave_Oven', 'previous_method')\n",
    "prev_wifi_beacon = iter_file_result('wifi_beacon', 'WiFi_Beacon', 'previous_method')\n",
    "prev_wifi_stream = iter_file_result('wifi_stream', 'WiFi_Stream', 'previous_method')\n",
    "\n",
    "prev_acc = np.concatenate([\n",
    "    np.array([16, 32, 64, 128, 256, 512, 1024, 2048, 4096], dtype=np.int32).reshape(-1 ,1),\n",
    "    np.array(prev_ble_beacon).reshape(-1 ,1), \n",
    "    np.array(prev_ble_stream).reshape(-1 ,1), \n",
    "    np.array(prev_microwave_oven).reshape(-1 ,1), \n",
    "    np.array(prev_wifi_beacon).reshape(-1 ,1), \n",
    "    np.array(prev_wifi_stream).reshape(-1 ,1)], axis=1)"
   ]
  },
  {
   "cell_type": "code",
   "execution_count": 35,
   "metadata": {},
   "outputs": [],
   "source": [
    "prop_ble_beacon = iter_file_result('ble_beacon', 'BL_Beacon', 'proposed_method')\n",
    "prop_ble_stream = iter_file_result('ble_stream', 'BL_Stream', 'proposed_method')\n",
    "prop_microwave_oven = iter_file_result('microwave_oven', 'Microwave_Oven', 'proposed_method')\n",
    "prop_wifi_beacon = iter_file_result('wifi_beacon', 'WiFi_Beacon', 'proposed_method')\n",
    "prop_wifi_stream = iter_file_result('wifi_stream', 'WiFi_Stream', 'proposed_method')\n",
    "\n",
    "prop_acc = np.concatenate([\n",
    "    np.array([16, 32, 64, 128, 256, 512, 1024, 2048, 4096], dtype=np.int32).reshape(-1 ,1),\n",
    "    np.array(prop_ble_beacon).reshape(-1 ,1), \n",
    "    np.array(prop_ble_stream).reshape(-1 ,1), \n",
    "    np.array(prop_microwave_oven).reshape(-1 ,1), \n",
    "    np.array(prop_wifi_beacon).reshape(-1 ,1), \n",
    "    np.array(prop_wifi_stream).reshape(-1 ,1)], axis=1)"
   ]
  },
  {
   "cell_type": "code",
   "execution_count": 37,
   "metadata": {},
   "outputs": [],
   "source": [
    "df_prev_acc = pd.DataFrame(prev_acc, columns=['Window Size', 'Bluetooth (Beacon)', 'Bluetooth (Stream)', 'Microwave Oven', 'Wi-Fi (Beacon)', 'Wi-Fi (Stream)'])\n",
    "df_prev_acc.to_csv('stream_clf_prev_method_result.csv', index=False)\n",
    "\n",
    "df_prop_acc = pd.DataFrame(prop_acc, columns=['Window Size', 'Bluetooth (Beacon)', 'Bluetooth (Stream)', 'Microwave Oven', 'Wi-Fi (Beacon)', 'Wi-Fi (Stream)'])\n",
    "df_prop_acc.to_csv('stream_clf_prop_method_result.csv', index=False)"
   ]
  }
 ],
 "metadata": {
  "kernelspec": {
   "display_name": "base",
   "language": "python",
   "name": "python3"
  },
  "language_info": {
   "codemirror_mode": {
    "name": "ipython",
    "version": 3
   },
   "file_extension": ".py",
   "mimetype": "text/x-python",
   "name": "python",
   "nbconvert_exporter": "python",
   "pygments_lexer": "ipython3",
   "version": "3.10.8"
  }
 },
 "nbformat": 4,
 "nbformat_minor": 2
}
